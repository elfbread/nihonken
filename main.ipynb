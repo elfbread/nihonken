{
 "cells": [
  {
   "cell_type": "code",
   "execution_count": 1,
   "metadata": {},
   "outputs": [],
   "source": [
    "import pandas as pd\n",
    "import numpy as np\n",
    "import requests\n",
    "from bs4 import BeautifulSoup"
   ]
  },
  {
   "cell_type": "code",
   "execution_count": 2,
   "metadata": {},
   "outputs": [
    {
     "name": "stdout",
     "output_type": "stream",
     "text": [
      "200\n"
     ]
    }
   ],
   "source": [
    "wikiurl=\"https://en.wikipedia.org/wiki/Prefectures_of_Japan\"\n",
    "table_class=\"wikitable sortable jquery-tablesorter\"\n",
    "response=requests.get(wikiurl)\n",
    "print(response.status_code)"
   ]
  },
  {
   "cell_type": "code",
   "execution_count": 3,
   "metadata": {},
   "outputs": [],
   "source": [
    "# parse data from html to beautifulsoup object\n",
    "\n",
    "soup = BeautifulSoup(response.text, 'html.parser')\n",
    "kentable=soup.find('table',{'class':\"wikitable\"})"
   ]
  },
  {
   "cell_type": "code",
   "execution_count": 4,
   "metadata": {},
   "outputs": [
    {
     "name": "stdout",
     "output_type": "stream",
     "text": [
      "  Prefecture Prefecture.1    Capital Capital.1   Region Major Island  \\\n",
      "0      Aichi          愛知県     Nagoya      名古屋市    Chūbu       Honshū   \n",
      "1      Akita          秋田県      Akita       秋田市   Tōhoku       Honshū   \n",
      "2     Aomori          青森県     Aomori       青森市   Tōhoku       Honshū   \n",
      "3      Chiba          千葉県      Chiba       千葉市    Kantō       Honshū   \n",
      "4      Ehime          愛媛県  Matsuyama       松山市  Shikoku      Shikoku   \n",
      "\n",
      "   Population(December 2022)  Area(km2)[15]  Density(per km2)  Distr.  \\\n",
      "0                    7571000        5173.07            1458.0       7   \n",
      "1                    1011000       11637.52              82.4       6   \n",
      "2                    1250000        9645.64             128.3       8   \n",
      "3                    6311000        5157.57            1218.5       6   \n",
      "4                    1353000        5676.19             235.2       7   \n",
      "\n",
      "   Municipalities    ISO Areacode  \n",
      "0              54  JP-23      052  \n",
      "1              25  JP-05      018  \n",
      "2              40  JP-02      017  \n",
      "3              54  JP-12      043  \n",
      "4              20  JP-38      089  \n"
     ]
    }
   ],
   "source": [
    "df=pd.read_html(str(kentable))\n",
    "#convert list to dataframe\n",
    "df=pd.DataFrame(df[0])\n",
    "print(df.head())"
   ]
  },
  {
   "cell_type": "code",
   "execution_count": 5,
   "metadata": {},
   "outputs": [
    {
     "name": "stdout",
     "output_type": "stream",
     "text": [
      "  Prefecture Prefecture_JPN    Capital Capital_JPN   Region Major Island\n",
      "0      Aichi            愛知県     Nagoya        名古屋市    Chūbu       Honshū\n",
      "1      Akita            秋田県      Akita         秋田市   Tōhoku       Honshū\n",
      "2     Aomori            青森県     Aomori         青森市   Tōhoku       Honshū\n",
      "3      Chiba            千葉県      Chiba         千葉市    Kantō       Honshū\n",
      "4      Ehime            愛媛県  Matsuyama         松山市  Shikoku      Shikoku\n"
     ]
    }
   ],
   "source": [
    "# drop unwanted columns\n",
    "data = df.drop([\"ISO\", \"Areacode\", \"Municipalities\", \"Distr.\", \"Density(per km2)\", \"Population(December 2022)\", \"Area(km2)[15]\"], axis=1)\n",
    "# rename columns\n",
    "data = data.rename(columns={\"Prefecture.1\":\"Prefecture_JPN\", \"Capital.1\":\"Capital_JPN\"})\n",
    "print(data.head())"
   ]
  },
  {
   "cell_type": "code",
   "execution_count": 6,
   "metadata": {},
   "outputs": [
    {
     "data": {
      "text/plain": [
       "0         Aichi\n",
       "1         Akita\n",
       "2        Aomori\n",
       "3         Chiba\n",
       "4         Ehime\n",
       "5         Fukui\n",
       "6       Fukuoka\n",
       "7     Fukushima\n",
       "8          Gifu\n",
       "9         Gunma\n",
       "10    Hiroshima\n",
       "11     Hokkaido\n",
       "12        Hyogo\n",
       "13      Ibaraki\n",
       "14     Ishikawa\n",
       "15        Iwate\n",
       "16       Kagawa\n",
       "17    Kagoshima\n",
       "18     Kanagawa\n",
       "19        Kochi\n",
       "20     Kumamoto\n",
       "21        Kyoto\n",
       "22          Mie\n",
       "23       Miyagi\n",
       "24     Miyazaki\n",
       "25       Nagano\n",
       "26     Nagasaki\n",
       "27         Nara\n",
       "28      Niigata\n",
       "29         Oita\n",
       "30      Okayama\n",
       "31      Okinawa\n",
       "32        Osaka\n",
       "33         Saga\n",
       "34      Saitama\n",
       "35        Shiga\n",
       "36      Shimane\n",
       "37     Shizuoka\n",
       "38      Tochigi\n",
       "39    Tokushima\n",
       "40        Tokyo\n",
       "41      Tottori\n",
       "42       Toyama\n",
       "43     Wakayama\n",
       "44     Yamagata\n",
       "45    Yamaguchi\n",
       "46    Yamanashi\n",
       "Name: Prefecture, dtype: object"
      ]
     },
     "execution_count": 6,
     "metadata": {},
     "output_type": "execute_result"
    }
   ],
   "source": [
    "# in progress\n",
    "# correcting long vowels in text\n",
    "data[\"Prefecture\"] = data[\"Prefecture\"].replace({\"Hyōgo\": \"Hyogo\", \"Kōchi\":\"Kochi\", \"Kyōto\":\"Kyoto\", \"Ōita\":\"Oita\", \"Ōsaka\":\"Osaka\", \"Tōkyō\":\"Tokyo\"})\n",
    "\n",
    "data[\"Prefecture\"]"
   ]
  },
  {
   "cell_type": "code",
   "execution_count": 6,
   "metadata": {},
   "outputs": [],
   "source": [
    "def assign_visit_dict(Prefecture):\n",
    "    visit = {\n",
    "        \"Hokkaido\": \"Yes\",\n",
    "        \"Aomori\": \"No\",\n",
    "        \"Iwate\": \"No\",\n",
    "        \"Miyagi\": \"No\",\n",
    "        \"Akita\": \"No\",\n",
    "        \"Yamagata\": \"No\",\n",
    "        \"Fukushima\": \"No\",\n",
    "        \"Ibaraki\": \"No\",\n",
    "        \"Tochigi\": \"No\",\n",
    "        \"Gunma\": \"No\",\n",
    "        \"Saitama\": \"Yes\",\n",
    "        \"Chiba\": \"Yes\",\n",
    "        \"Tōkyō\": \"Yes\",\n",
    "        \"Kanagawa\": \"Yes\",\n",
    "        \"Niigata\": \"No\",\n",
    "        \"Toyama\": \"No\",\n",
    "        \"Ishikawa\": \"No\",\n",
    "        \"Fukui\": \"No\",\n",
    "        \"Yamanashi\": \"No\",\n",
    "        \"Nagano\": \"Yes\",\n",
    "        \"Gifu\": \"No\",\n",
    "        \"Shizuoka\": \"No\",\n",
    "        \"Aichi\": \"Yes\",\n",
    "        \"Mie\": \"No\",\n",
    "        \"Shiga\": \"No\",\n",
    "        \"Kyōto\": \"Yes\",\n",
    "        \"Ōsaka\": \"Yes\",\n",
    "        \"Hyōgo\": \"No\",\n",
    "        \"Nara\": \"Yes\",\n",
    "        \"Wakayama\": \"No\",\n",
    "        \"Tokushima\": \"No\",\n",
    "        \"Kagawa\": \"No\",\n",
    "        \"Ehime\": \"No\",\n",
    "        \"Kōchi\": \"No\",\n",
    "        \"Fukuoka\": \"No\",\n",
    "        \"Saga\": \"No\",\n",
    "        \"Nagasaki\": \"Yes\",\n",
    "        \"Kumamoto\": \"Yes\",\n",
    "        \"Ōita\": \"No\",\n",
    "        \"Miyazaki\": \"Yes\",\n",
    "        \"Kagoshima\": \"No\",\n",
    "        \"Okinawa\": \"No\",\n",
    "        \"Hiroshima\": \"Yes\",\n",
    "        \"Okayama\": \"No\",\n",
    "        \"Shimane\": \"No\",\n",
    "        \"Tottori\": \"No\",\n",
    "        \"Yamaguchi\": \"Yes\"\n",
    "    }\n",
    "    \n",
    "    return visit.get(Prefecture, 'Unknown')\n",
    "data['Visit_hx'] = data['Prefecture'].apply(assign_visit_dict)"
   ]
  },
  {
   "cell_type": "code",
   "execution_count": 8,
   "metadata": {},
   "outputs": [
    {
     "name": "stdout",
     "output_type": "stream",
     "text": [
      "  Prefecture Prefecture_JPN    Capital Capital_JPN   Region Major Island  \\\n",
      "0      Aichi            愛知県     Nagoya        名古屋市    Chūbu       Honshū   \n",
      "1      Akita            秋田県      Akita         秋田市   Tōhoku       Honshū   \n",
      "2     Aomori            青森県     Aomori         青森市   Tōhoku       Honshū   \n",
      "3      Chiba            千葉県      Chiba         千葉市    Kantō       Honshū   \n",
      "4      Ehime            愛媛県  Matsuyama         松山市  Shikoku      Shikoku   \n",
      "\n",
      "  Visit_hx  \n",
      "0      Yes  \n",
      "1       No  \n",
      "2       No  \n",
      "3      Yes  \n",
      "4       No  \n"
     ]
    }
   ],
   "source": [
    "print(data.head())"
   ]
  },
  {
   "cell_type": "code",
   "execution_count": 7,
   "metadata": {},
   "outputs": [],
   "source": [
    "# export final dataset\n",
    "data.to_excel('pref_visited.xlsx', index = False)"
   ]
  }
 ],
 "metadata": {
  "kernelspec": {
   "display_name": "Python 3.10.1 64-bit",
   "language": "python",
   "name": "python3"
  },
  "language_info": {
   "codemirror_mode": {
    "name": "ipython",
    "version": 3
   },
   "file_extension": ".py",
   "mimetype": "text/x-python",
   "name": "python",
   "nbconvert_exporter": "python",
   "pygments_lexer": "ipython3",
   "version": "3.10.1"
  },
  "orig_nbformat": 4,
  "vscode": {
   "interpreter": {
    "hash": "bac4e17d0ad652fe572f7303b15392f2c4cb3e88fc6e44da7a2e494303c18aa2"
   }
  }
 },
 "nbformat": 4,
 "nbformat_minor": 2
}
